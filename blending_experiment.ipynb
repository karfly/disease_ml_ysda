{
 "cells": [
  {
   "cell_type": "markdown",
   "metadata": {
    "deletable": true,
    "editable": true
   },
   "source": [
    "# Blending"
   ]
  },
  {
   "cell_type": "markdown",
   "metadata": {
    "deletable": true,
    "editable": true
   },
   "source": [
    "### Base imports"
   ]
  },
  {
   "cell_type": "code",
   "execution_count": 1,
   "metadata": {
    "collapsed": true,
    "deletable": true,
    "editable": true
   },
   "outputs": [],
   "source": [
    "import os\n",
    "import json\n",
    "\n",
    "import numpy as np"
   ]
  },
  {
   "cell_type": "markdown",
   "metadata": {
    "deletable": true,
    "editable": true
   },
   "source": [
    "### Local imports"
   ]
  },
  {
   "cell_type": "code",
   "execution_count": 2,
   "metadata": {
    "collapsed": false,
    "deletable": true,
    "editable": true
   },
   "outputs": [],
   "source": [
    "from disease_ml.utils import make_submission"
   ]
  },
  {
   "cell_type": "markdown",
   "metadata": {
    "deletable": true,
    "editable": true
   },
   "source": [
    "### Constants"
   ]
  },
  {
   "cell_type": "code",
   "execution_count": 3,
   "metadata": {
    "collapsed": false,
    "deletable": true,
    "editable": true
   },
   "outputs": [],
   "source": [
    "EXPERIMENT_TITLE = 'Blending'\n",
    "\n",
    "SUBMISSIONS_DIR = 'submissions/'\n",
    "BLENDING_DIR = 'blending/'"
   ]
  },
  {
   "cell_type": "markdown",
   "metadata": {
    "deletable": true,
    "editable": true
   },
   "source": [
    "### Loading predictions for blending"
   ]
  },
  {
   "cell_type": "code",
   "execution_count": 4,
   "metadata": {
    "collapsed": false,
    "deletable": true,
    "editable": true
   },
   "outputs": [
    {
     "name": "stdout",
     "output_type": "stream",
     "text": [
      "Logreg[score=-0.22291][29-03-2017 16:08:30].json\n",
      "Logreg[score=-0.22297][29-03-2017 16:03:21].json\n",
      "Logreg[score=-0.22347][29-03-2017 16:00:19].json\n",
      "RF[score=-0.21969][29-03-2017 16:13:49].json\n"
     ]
    }
   ],
   "source": [
    "estimator_filenames = list(filter(lambda x: not x.startswith('.'), os.listdir(BLENDING_DIR)))\n",
    "print('\\n'.join(estimator_filenames))"
   ]
  },
  {
   "cell_type": "code",
   "execution_count": 5,
   "metadata": {
    "collapsed": false,
    "deletable": true,
    "editable": true
   },
   "outputs": [],
   "source": [
    "estimator_params = {\n",
    "    'estimators': []\n",
    "}\n",
    "\n",
    "estimator_predictions = []\n",
    "for estimator_filename in estimator_filenames:\n",
    "    with open(os.path.join(BLENDING_DIR, estimator_filename)) as fin:\n",
    "        estimator_json = json.load(fin)\n",
    "        \n",
    "        estimator_predictions.append(np.array(estimator_json['predictions']))\n",
    "        estimator_params['estimators'].append(estimator_filename.replace('.json', ''))\n",
    "\n",
    "estimator_predictions = np.array(estimator_predictions)"
   ]
  },
  {
   "cell_type": "markdown",
   "metadata": {
    "deletable": true,
    "editable": true
   },
   "source": [
    "### Function for blending"
   ]
  },
  {
   "cell_type": "code",
   "execution_count": 6,
   "metadata": {
    "collapsed": false,
    "deletable": true,
    "editable": true
   },
   "outputs": [],
   "source": [
    "def blend(estimator_predictions, weights=None):\n",
    "    if weights is not None:\n",
    "        assert np.allclose(np.sum(weights), 1), 'Weights do not sum to one!'\n",
    "    else:\n",
    "        weights = np.ones((len(estimator_predictions,))) / len(estimator_predictions)\n",
    "    \n",
    "    blended_predictions = estimator_predictions.T.dot(weights)\n",
    "    return blended_predictions"
   ]
  },
  {
   "cell_type": "markdown",
   "metadata": {
    "deletable": true,
    "editable": true
   },
   "source": [
    "### Submitting results"
   ]
  },
  {
   "cell_type": "code",
   "execution_count": 7,
   "metadata": {
    "collapsed": false,
    "deletable": true,
    "editable": true
   },
   "outputs": [],
   "source": [
    "params = {\n",
    "    'experiment': {\n",
    "        'title': EXPERIMENT_TITLE,\n",
    "    },\n",
    "    \n",
    "    'estimator': estimator_params\n",
    "}\n",
    "\n",
    "predictions = blend(estimator_predictions)\n",
    "make_submission(predictions, SUBMISSIONS_DIR, EXPERIMENT_TITLE,\n",
    "                params=params)"
   ]
  }
 ],
 "metadata": {
  "kernelspec": {
   "display_name": "Python 3 (tf_env)",
   "language": "python",
   "name": "python3"
  },
  "language_info": {
   "codemirror_mode": {
    "name": "ipython",
    "version": 3
   },
   "file_extension": ".py",
   "mimetype": "text/x-python",
   "name": "python",
   "nbconvert_exporter": "python",
   "pygments_lexer": "ipython3",
   "version": "3.6.0"
  }
 },
 "nbformat": 4,
 "nbformat_minor": 2
}
