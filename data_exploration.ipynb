{
 "cells": [
  {
   "cell_type": "markdown",
   "metadata": {
    "deletable": true,
    "editable": true
   },
   "source": [
    "# Data exploration"
   ]
  },
  {
   "cell_type": "code",
   "execution_count": 1,
   "metadata": {
    "collapsed": false,
    "deletable": true,
    "editable": true
   },
   "outputs": [],
   "source": [
    "import os\n",
    "\n",
    "import numpy as np\n",
    "\n",
    "import pandas as pd\n",
    "pd.set_option('display.max_columns', 100)\n",
    "\n",
    "import matplotlib\n",
    "%matplotlib inline\n",
    "from matplotlib import pylab as plt\n",
    "import seaborn as sns"
   ]
  },
  {
   "cell_type": "code",
   "execution_count": 34,
   "metadata": {
    "collapsed": true,
    "deletable": true,
    "editable": true
   },
   "outputs": [],
   "source": [
    "from sklearn.linear_model import LogisticRegression\n",
    "from sklearn.model_selection import cross_val_score, KFold, GridSearchCV, RandomizedSearchCV\n",
    "from sklearn.preprocessing import StandardScaler, Imputer, OneHotEncoder, LabelEncoder"
   ]
  },
  {
   "cell_type": "code",
   "execution_count": 3,
   "metadata": {
    "collapsed": true,
    "deletable": true,
    "editable": true
   },
   "outputs": [],
   "source": [
    "DATA_DIR = 'data/'"
   ]
  },
  {
   "cell_type": "code",
   "execution_count": 18,
   "metadata": {
    "collapsed": false,
    "deletable": true,
    "editable": true
   },
   "outputs": [],
   "source": [
    "x_train = pd.read_csv(os.path.join(DATA_DIR, 'X.train.csv')).values\n",
    "y_train = pd.read_csv(os.path.join(DATA_DIR, 'y.train.csv')).values\n",
    "\n",
    "x_test= pd.read_csv(os.path.join(DATA_DIR, 'X.test.csv')).values"
   ]
  },
  {
   "cell_type": "code",
   "execution_count": 19,
   "metadata": {
    "collapsed": false,
    "deletable": true,
    "editable": true
   },
   "outputs": [],
   "source": [
    "meta_data = pd.read_csv(os.path.join(DATA_DIR, 'MetaData.csv'))"
   ]
  },
  {
   "cell_type": "code",
   "execution_count": 20,
   "metadata": {
    "collapsed": false,
    "deletable": true,
    "editable": true
   },
   "outputs": [],
   "source": [
    "numeric_indexes = meta_data[meta_data['Column Type'] == 'Numeric'].index.values\n",
    "\n",
    "category_indexes = meta_data[meta_data['Column Type'] == 'Category'].index.values\n",
    "genes_start_index = 330\n",
    "genes_indexes = category_indexes[genes_start_index:]\n",
    "category_indexes = category_indexes[:genes_start_index]\n",
    "\n",
    "ordered_category_indexes = meta_data[meta_data['Column Type'] == 'Ordered Category'].index.values\n",
    "\n",
    "data = {\n",
    "    'y_train': y_train,\n",
    "    \n",
    "    'numeric': {\n",
    "        'train': x_train[:, numeric_indexes],\n",
    "        'test': x_test[:, numeric_indexes]\n",
    "    },\n",
    "    \n",
    "    'category': {\n",
    "        'train': x_train[:, category_indexes],\n",
    "        'test': x_test[:, category_indexes]\n",
    "    },\n",
    "    \n",
    "    'genes': {\n",
    "        'train': x_train[:, genes_indexes],\n",
    "        'test': x_test[:, genes_indexes]\n",
    "    },\n",
    "    \n",
    "    'ordered_category': {\n",
    "        'train': x_train[:, ordered_category_indexes],\n",
    "        'test': x_test[:, ordered_category_indexes]\n",
    "    }, \n",
    "}"
   ]
  },
  {
   "cell_type": "code",
   "execution_count": 21,
   "metadata": {
    "collapsed": false,
    "deletable": true,
    "editable": true
   },
   "outputs": [],
   "source": [
    "imputer_strategy = 'most_frequent'\n",
    "imputer = Imputer(strategy=imputer_strategy)\n",
    "data['numeric']['train'] = imputer.fit_transform(data['numeric']['train'])\n",
    "data['numeric']['test'] = imputer.transform(data['numeric']['test'])\n",
    "\n",
    "for kind in ['category', 'genes', 'ordered_category']:\n",
    "    data[kind]['train'][np.isnan(data[kind]['train'])] = -999\n",
    "    data[kind]['test'][np.isnan(data[kind]['test'])] = -999"
   ]
  },
  {
   "cell_type": "code",
   "execution_count": 38,
   "metadata": {
    "collapsed": false,
    "deletable": true,
    "editable": true
   },
   "outputs": [],
   "source": [
    "train_len = data[feature_type]['train'].shape[0]\n",
    "data_all = np.vstack([data[feature_type]['train'], data[feature_type]['test']])\n",
    "for i in range(data[feature_type]['train'].shape[1]):\n",
    "    label_encoder = LabelEncoder()\n",
    "    data_all[:, i] = label_encoder.fit_transform(data_all[:, i])\n",
    "    \n",
    "data[feature_type]['train'] = data_all[:train_len, :]\n",
    "data[feature_type]['test'] = data_all[train_len:, :]"
   ]
  },
  {
   "cell_type": "code",
   "execution_count": 41,
   "metadata": {
    "collapsed": false
   },
   "outputs": [
    {
     "data": {
      "text/plain": [
       "dtype('float64')"
      ]
     },
     "execution_count": 41,
     "metadata": {},
     "output_type": "execute_result"
    }
   ],
   "source": [
    "data[feature_type]['train'].dtype"
   ]
  },
  {
   "cell_type": "code",
   "execution_count": null,
   "metadata": {
    "collapsed": false,
    "deletable": true,
    "editable": true
   },
   "outputs": [],
   "source": [
    "d = data['category']['train'].astype('str')"
   ]
  },
  {
   "cell_type": "code",
   "execution_count": null,
   "metadata": {
    "collapsed": false,
    "deletable": true,
    "editable": true
   },
   "outputs": [],
   "source": [
    "df = pd.DataFrame(d)"
   ]
  },
  {
   "cell_type": "code",
   "execution_count": null,
   "metadata": {
    "collapsed": false,
    "deletable": true,
    "editable": true
   },
   "outputs": [],
   "source": [
    "for col_i in range(df.shape[1]):\n",
    "    df.iloc[:, col_i] = '{}='.format(col_i) + df.iloc[:, col_i]\n",
    "\n",
    "texts = df.apply(lambda row: ' '.join(row), axis=1).values"
   ]
  },
  {
   "cell_type": "code",
   "execution_count": null,
   "metadata": {
    "collapsed": false,
    "deletable": true,
    "editable": true
   },
   "outputs": [],
   "source": [
    "from sklearn.feature_extraction.text import HashingVectorizer"
   ]
  },
  {
   "cell_type": "code",
   "execution_count": null,
   "metadata": {
    "collapsed": true,
    "deletable": true,
    "editable": true
   },
   "outputs": [],
   "source": [
    "hv = HashingVectorizer(n_features=1000, binary=True)"
   ]
  },
  {
   "cell_type": "code",
   "execution_count": null,
   "metadata": {
    "collapsed": false,
    "deletable": true,
    "editable": true
   },
   "outputs": [],
   "source": [
    "hashed = hv.fit_transform(texts)"
   ]
  },
  {
   "cell_type": "code",
   "execution_count": null,
   "metadata": {
    "collapsed": false,
    "deletable": true,
    "editable": true
   },
   "outputs": [],
   "source": [
    "from disease_ml.data import _hashing_trick"
   ]
  },
  {
   "cell_type": "code",
   "execution_count": null,
   "metadata": {
    "collapsed": false,
    "deletable": true,
    "editable": true
   },
   "outputs": [],
   "source": [
    "a, b = _hashing_trick(data['category']['train'], data['category']['test'], n_features=1000)"
   ]
  },
  {
   "cell_type": "code",
   "execution_count": null,
   "metadata": {
    "collapsed": false,
    "deletable": true,
    "editable": true
   },
   "outputs": [],
   "source": [
    "(a == 0).sum()"
   ]
  },
  {
   "cell_type": "code",
   "execution_count": null,
   "metadata": {
    "collapsed": false,
    "deletable": true,
    "editable": true
   },
   "outputs": [],
   "source": [
    "a"
   ]
  },
  {
   "cell_type": "code",
   "execution_count": 12,
   "metadata": {
    "collapsed": false,
    "deletable": true,
    "editable": true
   },
   "outputs": [],
   "source": [
    "pred_1 = pd.read_csv('./submissions/Logreg[score=-0.22939][24-03-2017 18:30:44]/submission.csv').Prediction.values\n",
    "pred_2 = pd.read_csv('./submissions/RF[score=-0.23364][24-03-2017 19:23:44]/submission.csv').Prediction.values"
   ]
  },
  {
   "cell_type": "code",
   "execution_count": 16,
   "metadata": {
    "collapsed": false,
    "deletable": true,
    "editable": true
   },
   "outputs": [],
   "source": [
    "predictions = 0.7*pred_1 + 0.3*pred_2"
   ]
  },
  {
   "cell_type": "code",
   "execution_count": 17,
   "metadata": {
    "collapsed": true,
    "deletable": true,
    "editable": true
   },
   "outputs": [],
   "source": [
    "submission = pd.DataFrame({'Id': np.arange(len(predictions)),\n",
    "                           'Prediction': predictions})"
   ]
  },
  {
   "cell_type": "code",
   "execution_count": 19,
   "metadata": {
    "collapsed": false,
    "deletable": true,
    "editable": true
   },
   "outputs": [],
   "source": [
    "submission.to_csv(os.path.join('.', 'blending_submission.csv'), index=False)"
   ]
  },
  {
   "cell_type": "code",
   "execution_count": null,
   "metadata": {
    "collapsed": true,
    "deletable": true,
    "editable": true
   },
   "outputs": [],
   "source": []
  }
 ],
 "metadata": {
  "kernelspec": {
   "display_name": "Python 3 (tf_env)",
   "language": "python",
   "name": "python3"
  },
  "language_info": {
   "codemirror_mode": {
    "name": "ipython",
    "version": 3
   },
   "file_extension": ".py",
   "mimetype": "text/x-python",
   "name": "python",
   "nbconvert_exporter": "python",
   "pygments_lexer": "ipython3",
   "version": "3.6.0"
  }
 },
 "nbformat": 4,
 "nbformat_minor": 2
}
