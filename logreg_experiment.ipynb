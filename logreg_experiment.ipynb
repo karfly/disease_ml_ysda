{
 "cells": [
  {
   "cell_type": "markdown",
   "metadata": {
    "deletable": true,
    "editable": true
   },
   "source": [
    "# LogisticRegression"
   ]
  },
  {
   "cell_type": "markdown",
   "metadata": {
    "deletable": true,
    "editable": true
   },
   "source": [
    "### Base imports"
   ]
  },
  {
   "cell_type": "code",
   "execution_count": 1,
   "metadata": {
    "collapsed": false,
    "deletable": true,
    "editable": true
   },
   "outputs": [],
   "source": [
    "import os\n",
    "\n",
    "import numpy as np\n",
    "\n",
    "import pandas as pd\n",
    "pd.set_option('display.max_columns', 100)\n",
    "\n",
    "import matplotlib\n",
    "%matplotlib inline\n",
    "from matplotlib import pylab as plt\n",
    "import seaborn as sns"
   ]
  },
  {
   "cell_type": "markdown",
   "metadata": {
    "deletable": true,
    "editable": true
   },
   "source": [
    "### ML imports"
   ]
  },
  {
   "cell_type": "code",
   "execution_count": 2,
   "metadata": {
    "collapsed": false,
    "deletable": true,
    "editable": true
   },
   "outputs": [],
   "source": [
    "from sklearn.model_selection import cross_val_score, GridSearchCV\n",
    "from sklearn.model_selection import KFold, ShuffleSplit, StratifiedKFold"
   ]
  },
  {
   "cell_type": "code",
   "execution_count": 3,
   "metadata": {
    "collapsed": false,
    "deletable": true,
    "editable": true
   },
   "outputs": [],
   "source": [
    "from sklearn.linear_model import LogisticRegression as estimator_class"
   ]
  },
  {
   "cell_type": "markdown",
   "metadata": {
    "deletable": true,
    "editable": true
   },
   "source": [
    "### Local imports"
   ]
  },
  {
   "cell_type": "code",
   "execution_count": 4,
   "metadata": {
    "collapsed": false,
    "deletable": true,
    "editable": true
   },
   "outputs": [],
   "source": [
    "from disease_ml.data import load_data\n",
    "from disease_ml.utils import make_submission"
   ]
  },
  {
   "cell_type": "markdown",
   "metadata": {
    "deletable": true,
    "editable": true
   },
   "source": [
    "### Constants"
   ]
  },
  {
   "cell_type": "code",
   "execution_count": 5,
   "metadata": {
    "collapsed": false,
    "deletable": true,
    "editable": true
   },
   "outputs": [],
   "source": [
    "EXPERIMENT_TITLE = 'Logreg'\n",
    "\n",
    "DO_GRID_SEARCH = False\n",
    "\n",
    "SCORING = 'neg_log_loss'\n",
    "CV = StratifiedKFold(n_splits=6, shuffle=True, random_state=0)\n",
    "\n",
    "N_JOBS = 3\n",
    "\n",
    "SUBMISSIONS_DIR = 'submissions/'"
   ]
  },
  {
   "cell_type": "markdown",
   "metadata": {
    "deletable": true,
    "editable": true
   },
   "source": [
    "### Loading data"
   ]
  },
  {
   "cell_type": "code",
   "execution_count": 6,
   "metadata": {
    "collapsed": false,
    "deletable": true,
    "editable": true,
    "scrolled": true
   },
   "outputs": [],
   "source": [
    "data_params = {\n",
    "    'imputer_strategy': 'most_frequent',\n",
    "    'scale': True,\n",
    "    'ohe': ('category',),\n",
    "    \n",
    "    \n",
    "#     'hashing_trick': True,\n",
    "#     'binary': False,\n",
    "#     'ngram_range': (1, 3),\n",
    "    \n",
    "    'feature_types': ('numeric', 'category', 'ordered_category')\n",
    "}\n",
    "\n",
    "x_train, y_train, x_test = load_data(**data_params)"
   ]
  },
  {
   "cell_type": "code",
   "execution_count": 7,
   "metadata": {
    "collapsed": false,
    "deletable": true,
    "editable": true
   },
   "outputs": [
    {
     "name": "stdout",
     "output_type": "stream",
     "text": [
      "x_train.shape=(4099, 1313)\n",
      "y_train.shape=(4099,)\n",
      "x_test.shape=(1366, 1313)\n"
     ]
    }
   ],
   "source": [
    "print('x_train.shape={}'.format(x_train.shape))\n",
    "print('y_train.shape={}'.format(y_train.shape))\n",
    "print('x_test.shape={}'.format(x_test.shape))"
   ]
  },
  {
   "cell_type": "markdown",
   "metadata": {
    "deletable": true,
    "editable": true
   },
   "source": [
    "### Training"
   ]
  },
  {
   "cell_type": "code",
   "execution_count": 8,
   "metadata": {
    "collapsed": false,
    "deletable": true,
    "editable": true
   },
   "outputs": [
    {
     "data": {
      "text/plain": [
       "LogisticRegression(C=1.0, class_weight=None, dual=False, fit_intercept=True,\n",
       "          intercept_scaling=1, max_iter=100, multi_class='ovr', n_jobs=1,\n",
       "          penalty='l2', random_state=None, solver='liblinear', tol=0.0001,\n",
       "          verbose=0, warm_start=False)"
      ]
     },
     "execution_count": 8,
     "metadata": {},
     "output_type": "execute_result"
    }
   ],
   "source": [
    "estimator_class()"
   ]
  },
  {
   "cell_type": "code",
   "execution_count": 9,
   "metadata": {
    "collapsed": false,
    "deletable": true,
    "editable": true
   },
   "outputs": [],
   "source": [
    "estimator_params = {\n",
    "    'C': 0.1,\n",
    "    'penalty': 'l1'\n",
    "}\n",
    "\n",
    "estimator_param_grid = {\n",
    "    'C': [10 ** power for power in range(-3, 3 + 1)],\n",
    "    'penalty': ['l1']\n",
    "}"
   ]
  },
  {
   "cell_type": "code",
   "execution_count": 10,
   "metadata": {
    "collapsed": false,
    "deletable": true,
    "editable": true
   },
   "outputs": [
    {
     "name": "stdout",
     "output_type": "stream",
     "text": [
      "[CV]  ................................................................\n",
      "[CV]  ................................................................\n",
      "[CV]  ................................................................\n",
      "[CV] ................................................. , total=   0.8s\n",
      "[CV]  ................................................................\n",
      "[CV] ................................................. , total=   0.8s\n",
      "[CV] ................................................. , total=   1.1s\n",
      "[CV]  ................................................................\n",
      "[CV]  ................................................................\n",
      "[CV] ................................................. , total=   0.4s\n",
      "[CV] ................................................. , total=   0.7s\n",
      "[CV] ................................................. , total=   0.5s\n"
     ]
    },
    {
     "name": "stderr",
     "output_type": "stream",
     "text": [
      "[Parallel(n_jobs=3)]: Done   6 out of   6 | elapsed:    2.3s finished\n"
     ]
    },
    {
     "name": "stdout",
     "output_type": "stream",
     "text": [
      "Score: -0.22291 | Std: 0.0087605\n",
      "[-0.21566406 -0.21609174 -0.21227547 -0.23273212 -0.23488423 -0.22583247]\n"
     ]
    }
   ],
   "source": [
    "if DO_GRID_SEARCH:\n",
    "    gs = GridSearchCV(estimator_class(), estimator_param_grid,\n",
    "                      scoring=SCORING, cv=CV,\n",
    "                      refit=True, n_jobs=N_JOBS, verbose=2)\n",
    "    gs.fit(x_train, y_train)\n",
    "    \n",
    "    score = gs.best_score_\n",
    "    estimator = gs.best_estimator_\n",
    "    estimator_params = gs.best_params_\n",
    "else:\n",
    "    cv_scores = cross_val_score(estimator_class(**estimator_params),\n",
    "                                x_train, y_train,\n",
    "                                scoring=SCORING, cv=CV,\n",
    "                                n_jobs=N_JOBS, verbose=2)\n",
    "    score = np.mean(cv_scores)\n",
    "    \n",
    "    print('Score: {:.5} | Std: {:.5}'.format(score, np.std(cv_scores)))\n",
    "    print(cv_scores)\n",
    "    \n",
    "    # refitting on all data\n",
    "    estimator = estimator_class(**estimator_params)\n",
    "    estimator.fit(x_train, y_train)"
   ]
  },
  {
   "cell_type": "markdown",
   "metadata": {
    "deletable": true,
    "editable": true
   },
   "source": [
    "### Printing results of training"
   ]
  },
  {
   "cell_type": "code",
   "execution_count": 11,
   "metadata": {
    "collapsed": false,
    "deletable": true,
    "editable": true
   },
   "outputs": [],
   "source": [
    "if DO_GRID_SEARCH:\n",
    "    print('Grid search results:')\n",
    "    cv_results_indexes_sorted = np.argsort(gs.cv_results_['mean_test_score'])[::-1]\n",
    "    mean_test_scores = gs.cv_results_['mean_test_score'][cv_results_indexes_sorted]\n",
    "    std_test_scores = gs.cv_results_['std_test_score'][cv_results_indexes_sorted]\n",
    "    params = np.array(gs.cv_results_['params'])[cv_results_indexes_sorted]\n",
    "\n",
    "    for test_score, std, params in zip(mean_test_scores, std_test_scores, params):\n",
    "        print('- score={:.5}, std={:.5} | params={}'.format(test_score, std, params))"
   ]
  },
  {
   "cell_type": "markdown",
   "metadata": {
    "deletable": true,
    "editable": true
   },
   "source": [
    "### Submitting results"
   ]
  },
  {
   "cell_type": "code",
   "execution_count": 12,
   "metadata": {
    "collapsed": false,
    "deletable": true,
    "editable": true
   },
   "outputs": [],
   "source": [
    "params = {\n",
    "    'experiment': {\n",
    "        'title': EXPERIMENT_TITLE,\n",
    "        'do_grid_search': DO_GRID_SEARCH,\n",
    "        'scoring': SCORING,\n",
    "        'k_folds': str(CV),\n",
    "        'score': score,\n",
    "        'n_jobs': N_JOBS\n",
    "    },\n",
    "    \n",
    "    'data': data_params,\n",
    "    'estimator': estimator.get_params()\n",
    "}\n",
    "\n",
    "predictions = estimator.predict_proba(x_test)[:, 1]\n",
    "make_submission(predictions, SUBMISSIONS_DIR, EXPERIMENT_TITLE,\n",
    "                estimator, params,\n",
    "                score, add_to_blending=True)"
   ]
  }
 ],
 "metadata": {
  "kernelspec": {
   "display_name": "Python 3 (tf_env)",
   "language": "python",
   "name": "python3"
  },
  "language_info": {
   "codemirror_mode": {
    "name": "ipython",
    "version": 3
   },
   "file_extension": ".py",
   "mimetype": "text/x-python",
   "name": "python",
   "nbconvert_exporter": "python",
   "pygments_lexer": "ipython3",
   "version": "3.6.0"
  }
 },
 "nbformat": 4,
 "nbformat_minor": 2
}
